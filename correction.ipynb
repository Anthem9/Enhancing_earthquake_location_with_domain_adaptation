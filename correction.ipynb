{
 "cells": [
  {
   "attachments": {},
   "cell_type": "markdown",
   "metadata": {
    "pycharm": {
     "name": "#%% md\n"
    }
   },
   "source": [
    "# Correction of earthquake catalog "
   ]
  },
  {
   "cell_type": "code",
   "execution_count": null,
   "metadata": {
    "pycharm": {
     "name": "#%%\n",
     "is_executing": true
    }
   },
   "outputs": [],
   "source": [
    "from main import preprocess_data, train_model, make_predictions\n",
    "import utils\n",
    "import models\n",
    "import matplotlib.pyplot as plt"
   ]
  },
  {
   "cell_type": "code",
   "execution_count": null,
   "metadata": {
    "pycharm": {
     "name": "#%%\n",
     "is_executing": true
    }
   },
   "outputs": [],
   "source": [
    "filepath = \"data/new_data.csv\"\n",
    "features = [\n",
    "    \"bias_lat\",\n",
    "    \"bias_long\",\n",
    "    \"bias_depth\",\n",
    "    \"semiMajorAxisLength\",\n",
    "    \"semiMinorAxisLength\",\n",
    "    \"semiIntermediateAxisLength\",\n",
    "    \"majorAxisPlungeSin\",\n",
    "    \"majorAxisPlungeCos\",\n",
    "    \"majorAxisAzimuthSin\",\n",
    "    \"majorAxisAzimuthCos\",\n",
    "    \"majorAxisRotationSin\",\n",
    "    \"majorAxisRotationCos\",\n",
    "    \"scatter_volume\",\n",
    "]\n",
    "\n",
    "targets = [\"ref_lat\", \"ref_long\", \"ref_depth\"]\n",
    "model_option = \"RF\"\n",
    "sample_size = 4000\n",
    "\n",
    "# Load and preprocess the data\n",
    "data = preprocess_data(filepath, features, targets)\n"
   ]
  },
  {
   "attachments": {},
   "cell_type": "markdown",
   "metadata": {
    "pycharm": {
     "name": "#%% md\n"
    }
   },
   "source": [
    "## Train the model"
   ]
  },
  {
   "cell_type": "code",
   "execution_count": null,
   "metadata": {
    "pycharm": {
     "name": "#%%\n",
     "is_executing": true
    }
   },
   "outputs": [],
   "source": [
    "model = train_model(\n",
    "    data=data, features=features, targets=targets, model_option=model_option\n",
    ")"
   ]
  },
  {
   "cell_type": "code",
   "execution_count": null,
   "metadata": {
    "pycharm": {
     "name": "#%%\n",
     "is_executing": true
    }
   },
   "outputs": [],
   "source": [
    "model"
   ]
  },
  {
   "cell_type": "code",
   "execution_count": null,
   "metadata": {
    "pycharm": {
     "name": "#%%\n",
     "is_executing": true
    }
   },
   "outputs": [],
   "source": [
    "score = model.score(data[features], data[targets])\n",
    "print(f'R^2 score: {score:.2f}')"
   ]
  },
  {
   "cell_type": "code",
   "execution_count": null,
   "metadata": {
    "pycharm": {
     "name": "#%%\n",
     "is_executing": true
    }
   },
   "outputs": [],
   "source": [
    "result = make_predictions(model, data, features)\n",
    "utils.map_data2D(result, options=[\"ref\", \"corr\"])"
   ]
  },
  {
   "cell_type": "code",
   "execution_count": null,
   "metadata": {
    "pycharm": {
     "name": "#%%\n",
     "is_executing": true
    }
   },
   "outputs": [],
   "source": [
    "plt.close()\n",
    "utils.plot_feature_importance_bar_chart(model, features)"
   ]
  },
  {
   "cell_type": "code",
   "execution_count": null,
   "metadata": {
    "pycharm": {
     "name": "#%%\n",
     "is_executing": true
    }
   },
   "outputs": [],
   "source": [
    "utils.plot_predictions(data, model, features, targets)"
   ]
  }
 ],
 "metadata": {
  "kernelspec": {
   "display_name": "nuts",
   "language": "python",
   "name": "python3"
  },
  "language_info": {
   "codemirror_mode": {
    "name": "ipython",
    "version": 3
   },
   "file_extension": ".py",
   "mimetype": "text/x-python",
   "name": "python",
   "nbconvert_exporter": "python",
   "pygments_lexer": "ipython3",
   "version": "3.11.3"
  },
  "orig_nbformat": 4
 },
 "nbformat": 4,
 "nbformat_minor": 2
}